{
 "cells": [
  {
   "cell_type": "code",
   "execution_count": 2,
   "metadata": {},
   "outputs": [
    {
     "name": "stdout",
     "output_type": "stream",
     "text": [
      "100008.jpg\n",
      "100023.jpg\n",
      "100053.jpg\n",
      "100078.jpg\n",
      "100090.jpg\n",
      "100122.jpg\n",
      "100123.jpg\n",
      "100128.jpg\n",
      "100134.jpg\n",
      "100143.jpg\n",
      "100150.jpg\n",
      "100157.jpg\n",
      "100187.jpg\n",
      "100204.jpg\n",
      "100237.jpg\n",
      "100259.jpg\n",
      "100263.jpg\n",
      "100288.jpg\n",
      "100295.jpg\n",
      "100322.jpg\n",
      "done\n"
     ]
    }
   ],
   "source": [
    "# 4:17pm\n",
    "\n",
    "from PIL import Image\n",
    "import matplotlib as mpl\n",
    "import matplotlib.pyplot as plt\n",
    "import numpy as np\n",
    "import cv2\n",
    "import os\n",
    "\n",
    "parent_list = os.listdir(\"./Small_Galaxy_Zoo/\")\n",
    "parent_list.sort()\n",
    "count =0\n",
    "\n",
    "for child in parent_list:\n",
    "    if count < 20:\n",
    "        print(child)\n",
    "        img = Image.open(\"./Small_Galaxy_Zoo/\" + child)\n",
    "        img_fliplr = img.transpose(method = Image.FLIP_LEFT_RIGHT)\n",
    "        img_flipbt = img.transpose(method = Image.FLIP_TOP_BOTTOM)\n",
    "        img_trans = img.transpose(method = Image.TRANSPOSE)\n",
    "        img_rotate_90 = img.rotate(90)\n",
    "        img_rotate_180 = img.rotate(180)\n",
    "        img_rotate_270 = img.rotate(270)\n",
    "        img_rfdiag_temp = img_rotate_90.transpose(method = Image.TRANSPOSE)\n",
    "        img_rfdiag = img_rfdiag_temp.rotate(270)\n",
    "        i = 8 * count\n",
    "        img_name = \"small\" + '_' + \"%07d\" % (i) + '.jpg'\n",
    "        img.save(\"./Small_galaxy_aug/\" + img_name)\n",
    "\n",
    "        img_fliplr_name = \"small\" + '_' + \"%07d\" % (i+1) + '.jpg'\n",
    "        img_fliplr.save(\"./Small_galaxy_aug/\" + img_fliplr_name)\n",
    "\n",
    "        img_flipbt_name = \"small\" + '_' + \"%07d\" % (i+2) + '.jpg'\n",
    "        img_flipbt.save(\"./Small_galaxy_aug/\" + img_flipbt_name)\n",
    "\n",
    "        img_trans_name =  \"small\" + '_' + \"%07d\" % (i+3) + '.jpg'\n",
    "        img_fliplr.save(\"./Small_galaxy_aug/\" + img_trans_name)\n",
    "\n",
    "        img_rotate_90_name =  \"small\" + '_' + \"%07d\" % (i+4) + '.jpg'\n",
    "        img_rotate_90.save(\"./Small_galaxy_aug/\" + img_rotate_90_name)\n",
    "\n",
    "        img_rotate_180_name =  \"small\" + '_' + \"%07d\" % (i+5) + '.jpg'\n",
    "        img_rotate_180.save(\"./Small_galaxy_aug/\" + img_rotate_180_name)\n",
    "\n",
    "        img_rotate_270_name =  \"small\" + '_' + \"%07d\" % (i+6) + '.jpg'\n",
    "        img_rotate_270.save(\"./Small_galaxy_aug/\" + img_rotate_270_name)\n",
    "\n",
    "        img_rfdiag_name = \"small\" + '_' + \"%07d\" % (i+7) + '.jpg'\n",
    "        img_rfdiag.save(\"./Small_galaxy_aug/\" + img_rfdiag_name)\n",
    "    else:\n",
    "        break\n",
    "    count = count+1\n",
    "    \n",
    "\n",
    "print('done')"
   ]
  },
  {
   "cell_type": "code",
   "execution_count": null,
   "metadata": {
    "collapsed": true
   },
   "outputs": [],
   "source": []
  }
 ],
 "metadata": {
  "kernelspec": {
   "display_name": "Python 3",
   "language": "python",
   "name": "python3"
  },
  "language_info": {
   "codemirror_mode": {
    "name": "ipython",
    "version": 3
   },
   "file_extension": ".py",
   "mimetype": "text/x-python",
   "name": "python",
   "nbconvert_exporter": "python",
   "pygments_lexer": "ipython3",
   "version": "3.6.3"
  }
 },
 "nbformat": 4,
 "nbformat_minor": 2
}
